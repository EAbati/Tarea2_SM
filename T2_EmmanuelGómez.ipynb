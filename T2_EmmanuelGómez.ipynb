{
 "cells": [
  {
   "cell_type": "markdown",
   "metadata": {},
   "source": [
    "# Python is becoming the world’s most popular coding language\n",
    "Phyton e uno de los lenguajes de programación mas utilizados, que aunque a inicio no se creia que seria tan popular su uso comenzo a incrementarse demasiado por su facil utilización. Comenzo a recibir muchos usuarios y practicantes que incrementaron el numero de bibliotecas hasta tener mas de 145,000 paquetes de software con los cuales cualquier usuario podria trabajar, abarcando una amplia zona con la cual Phyton es util.\n",
    "\n",
    "Según Grady Booch, jefe de ciencias computacionales del IBM, Phyton es capaz de crecer de tal forma que podria pasar a la mayoria de sus competidores, puesto que no podria sustituir a C o C++ por sus opciones de tabajo mas bajo, pero si seria capaz de volver obsoleto lenguajes como Java"
   ]
  },
  {
   "cell_type": "markdown",
   "metadata": {},
   "source": [
    ">Resumen de la noticia de: https://www.economist.com/graphic-detail/2018/07/26/python-is-becoming-the-worlds-most-popular-coding-language"
   ]
  },
  {
   "cell_type": "code",
   "execution_count": null,
   "metadata": {},
   "outputs": [],
   "source": []
  }
 ],
 "metadata": {
  "kernelspec": {
   "display_name": "Python 3",
   "language": "python",
   "name": "python3"
  },
  "language_info": {
   "codemirror_mode": {
    "name": "ipython",
    "version": 3
   },
   "file_extension": ".py",
   "mimetype": "text/x-python",
   "name": "python",
   "nbconvert_exporter": "python",
   "pygments_lexer": "ipython3",
   "version": "3.7.3"
  }
 },
 "nbformat": 4,
 "nbformat_minor": 2
}
